{
  "nbformat": 4,
  "nbformat_minor": 0,
  "metadata": {
    "jupytext": {
      "split_at_heading": true
    },
    "kernelspec": {
      "display_name": "Python 3",
      "language": "python",
      "name": "python3"
    },
    "language_info": {
      "codemirror_mode": {
        "name": "ipython",
        "version": 3
      },
      "file_extension": ".py",
      "mimetype": "text/x-python",
      "name": "python",
      "nbconvert_exporter": "python",
      "pygments_lexer": "ipython3",
      "version": "3.7.7"
    },
    "toc": {
      "base_numbering": 1,
      "nav_menu": {},
      "number_sections": false,
      "sideBar": true,
      "skip_h1_title": true,
      "title_cell": "Table of Contents",
      "title_sidebar": "Contents",
      "toc_cell": false,
      "toc_position": {},
      "toc_section_display": true,
      "toc_window_display": false
    },
    "colab": {
      "name": "classifier_app.ipynb",
      "provenance": [],
      "include_colab_link": true
    }
  },
  "cells": [
    {
      "cell_type": "markdown",
      "metadata": {
        "id": "view-in-github",
        "colab_type": "text"
      },
      "source": [
        "<a href=\"https://colab.research.google.com/github/marcinczeczko/wtt-01-classifier-app-template/blob/main/classifier_app.ipynb\" target=\"_parent\"><img src=\"https://colab.research.google.com/assets/colab-badge.svg\" alt=\"Open In Colab\"/></a>"
      ]
    },
    {
      "cell_type": "code",
      "metadata": {
        "id": "D-1QBAqi9pn9"
      },
      "source": [
        "from fastai.basics import *\n",
        "from fastai.callback.all import *\n",
        "from fastai.vision.all import *\n",
        "from fastai.vision.widgets import *\n",
        "\n",
        "import os.path\n",
        "import warnings\n",
        "warnings.filterwarnings('ignore')\n",
        "\n",
        "import gdown"
      ],
      "execution_count": null,
      "outputs": []
    },
    {
      "cell_type": "markdown",
      "metadata": {
        "id": "f-EyMgP39poB"
      },
      "source": [
        "# The Selfie Classifier!"
      ]
    },
    {
      "cell_type": "markdown",
      "metadata": {
        "id": "4V6vudvS9poC"
      },
      "source": [
        "Here you can do a very nice and fancy thing - you can detect if the given headshot is selfie or not.\n",
        "\n",
        "Important:\n",
        "  This only handles adult human headshots (man or woman). It might not give you a sensible answser for kids or full pose shots of the people.\n",
        "\n",
        "Enjoy !\n",
        "\n",
        "----"
      ]
    },
    {
      "cell_type": "code",
      "metadata": {
        "id": "YTKtErRT9poD"
      },
      "source": [
        "class SelfieDetectorApp():\n",
        "    MODEL_ID_FILE = 'model_id.txt'\n",
        "\n",
        "    def __init__(self):\n",
        "        model_path = self.download_model()\n",
        "        if model_path and len(model_path) > 0:\n",
        "          self.learner = load_learner(model_path, cpu=True)\n",
        "        else:\n",
        "          raise ValueError(\"Unable to load a model. Please check if the export.pkl is available for a given Google Drive File Id\")\n",
        "        self.upload = widgets.FileUpload()\n",
        "        self.img_out = widgets.Output()\n",
        "        self.result = widgets.Label()\n",
        "        self.upload.observe(self._on_data_change, names=['data'])\n",
        "\n",
        "    def download_model(self):\n",
        "      if not os.path.isfile(self.MODEL_ID_FILE) or os.path.getsize(self.MODEL_ID_FILE) <= 1:\n",
        "        print('Missing \"model_id.txt\" file or file is empty. Please add the file with the Google Drive File ID of the model')\n",
        "        return None  \n",
        "\n",
        "      model_id = open(self.MODEL_ID_FILE).read().split('\\n')[0]\n",
        "      return gdown.download(f'https://drive.google.com/uc?id={model_id}', 'export.pkl', quiet=False)\n",
        "\n",
        "    def _on_data_change(self, change):\n",
        "        self.result.value = ''\n",
        "        img = PILImage.create(self.upload.data[-1])\n",
        "        self.img_out.clear_output()\n",
        "        with self.img_out: display(img.to_thumb(300,300)) \n",
        "        class_name, prob_idx, probs = self.learner.predict(img)\n",
        "        self.result.value = f\"{class_name.upper()} with {probs[prob_idx.item()]*100:.2f}% probability\"\n",
        "\n",
        "    def start(self):\n",
        "        display(widgets.VBox([widgets.Label('Upload the headshot'), self.upload, self.img_out, self.result]))\n",
        "\n",
        "app = SelfieDetectorApp()\n",
        "app.start()"
      ],
      "execution_count": null,
      "outputs": []
    }
  ]
}